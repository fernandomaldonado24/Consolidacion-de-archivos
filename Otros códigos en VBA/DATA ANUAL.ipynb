{
 "cells": [
  {
   "cell_type": "code",
   "execution_count": 3,
   "metadata": {},
   "outputs": [],
   "source": [
    "import pandas as pd\n",
    "import matplotlib as plt\n",
    "from pandas import ExcelWriter\n",
    "import os\n",
    "import numpy as np\n",
    "año=2023\n",
    "#            CREACIÓN DE VARIABLES PARA LA LOCALIZACION DEL INPUT Y OUTPUT\n",
    "input_loc='//192.168.10.250/finanzas_produccion/FINANZAS_PRODUCCION/Fernando/BASE DE DATOS/DATA MENSUAL/'+str(año)+'/'\n",
    "output_loc='//192.168.10.250/finanzas_produccion/FINANZAS_PRODUCCION/Fernando/BASE DE DATOS/DATA ANUAL/'\n",
    "#            CREACIÓN DE VARIABLES PARA LISTA DE ARCHIVOS DE INPUT\n",
    "filelist=os.listdir(input_loc)\n",
    "df1=pd.DataFrame()\n",
    "def es_bisiesto(año: int):\n",
    "    return (año-2020)%4 == 0\n",
    "\n",
    "for files in filelist:\n",
    "    if files.endswith(\".csv\"):\n",
    "        file_name=files.replace('.csv', '')\n",
    "        df=pd.read_csv(input_loc+files)\n",
    "        #df.drop(['FECHA'], axis=1,inplace=True)\n",
    "        if file_name=='ENERO':\n",
    "            df['FECHA']='31/01/'+str(año)\n",
    "        elif file_name=='FEBRERO':\n",
    "            if es_bisiesto(año):\n",
    "                df['FECHA']='29/02/'+str(año)\n",
    "            else:\n",
    "                df['FECHA']='28/02/'+str(año)  \n",
    "        elif file_name=='MARZO':\n",
    "            df['FECHA']='31/03/'+str(año)\n",
    "        elif file_name=='ABRIL':\n",
    "            df['FECHA']='30/04/'+str(año)\n",
    "        elif file_name=='MAYO':\n",
    "            df['FECHA']='31/05/'+str(año)\n",
    "        elif file_name=='JUNIO':\n",
    "            df['FECHA']='30/06/'+str(año)\n",
    "        elif file_name=='JULIO':\n",
    "            df['FECHA']='31/07/'+str(año)\n",
    "        elif file_name=='AGOSTO':\n",
    "            df['FECHA']='31/08/'+str(año)\n",
    "        elif file_name=='SETIEMBRE':\n",
    "            df['FECHA']='30/09/'+str(año)\n",
    "        elif file_name=='OCTUBRE':\n",
    "            df['FECHA']='31/10/'+str(año)\n",
    "        elif file_name=='NOVIEMBRE':\n",
    "            df['FECHA']='30/11/'+str(año)\n",
    "        elif file_name=='DICIEMBRE':\n",
    "            df['FECHA']='31/12/'+str(año)\n",
    "        # LLENADO DE VALORES NULOS\n",
    "        df.fillna({'Marca':'N/A','Tipo':'N/A','Modelo Comercial':'N/A','Version': 'N/A','Juego':'N/A','Empresa':'N/A'},inplace=True)\n",
    "        df1=pd.concat([df1,df])\n",
    "\n",
    "# CONSTRUCCIÓN DE PIVOT TABLE\n",
    "tabla=pd.pivot_table(df1,index=['FECHA','Maquina','Local','Marca','Tipo','Modelo Comercial','Version','Juego','Empresa'],\n",
    "                    aggfunc={'Dif. ElecIn':np.sum,'Neto Elec.':np.sum,'Coin($/Maq-dia)':np.mean,'Netwin Real($/Maq-dia)':np.mean ,\n",
    "                                'Netwin Teorico($/Maq-dia)':np.mean ,'Cant. Dias':'count'})\n",
    "# CONVERSIÓN DE PIVOT TABLE A TABLA\n",
    "tabla.reset_index(inplace=True)\n",
    "# ORDENADO DE ENCABEZADOS\n",
    "tabla=tabla.loc[:,['FECHA','Maquina','Local','Marca','Tipo','Modelo Comercial','Version','Juego','Empresa','Dif. ElecIn',\n",
    "                    'Neto Elec.','Coin($/Maq-dia)','Netwin Real($/Maq-dia)','Netwin Teorico($/Maq-dia)','Cant. Dias']]   \n",
    "        \n",
    "tabla.to_csv(output_loc+str(año)+'.csv',index=False)"
   ]
  }
 ],
 "metadata": {
  "kernelspec": {
   "display_name": "base",
   "language": "python",
   "name": "python3"
  },
  "language_info": {
   "codemirror_mode": {
    "name": "ipython",
    "version": 3
   },
   "file_extension": ".py",
   "mimetype": "text/x-python",
   "name": "python",
   "nbconvert_exporter": "python",
   "pygments_lexer": "ipython3",
   "version": "3.9.12"
  },
  "orig_nbformat": 4,
  "vscode": {
   "interpreter": {
    "hash": "e06ff7da33dc9620448857a90ad8b5f428f0d573d205a934d2841c8aee45ea32"
   }
  }
 },
 "nbformat": 4,
 "nbformat_minor": 2
}
