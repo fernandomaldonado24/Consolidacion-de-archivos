{
 "cells": [
  {
   "cell_type": "code",
   "execution_count": 9,
   "metadata": {},
   "outputs": [],
   "source": [
    "import pandas as pd\n",
    "import matplotlib as plt\n",
    "from pandas import ExcelWriter\n",
    "import os\n",
    "import openpyxl\n",
    "import locale\n",
    "locale.setlocale(locale.LC_ALL,('es_ES','UTF-8'))\n",
    "año=2023\n",
    "TC={ '1.2019':3.379,\n",
    "     '2.2019':3.335,\n",
    "     '3.2019':3.305,\n",
    "     '4.2019':3.312,\n",
    "     '5.2019':3.312,\n",
    "     '6.2019':3.370,\n",
    "     '7.2019':3.291,\n",
    "     '8.2019':3.310,\n",
    "     '9.2019':3.405,\n",
    "     '10.2019':3.385,\n",
    "     '11.2019':3.336,\n",
    "     '12.2019':3.403,   \n",
    "    '1.2022':3.998,\n",
    "     '2.2022':3.846,\n",
    "     '3.2022':3.759,\n",
    "     '4.2022':3.701,\n",
    "     '5.2022':3.838,\n",
    "     '6.2022':3.707,\n",
    "     '7.2022':3.830,\n",
    "     '8.2022':3.925,\n",
    "     '9.2022':3.847,\n",
    "     '10.2022':3.984,\n",
    "     '11.2022':3.993,\n",
    "     '12.2022':3.854,\n",
    "     '1.2023':3.820,\n",
    "     '2.2023':3.851}\n",
    "input_loc='//192.168.10.250/finanzas_produccion/FINANZAS_PRODUCCION/Fernando/BASE DE DATOS/DATA DIARIA/DATA BRUTA/'+str(año)+'/'\n",
    "output_loc='//192.168.10.250/finanzas_produccion/FINANZAS_PRODUCCION/Fernando/BASE DE DATOS/DATA DIARIA/DATA LIMPIA/'+str(año)+'/'"
   ]
  },
  {
   "cell_type": "code",
   "execution_count": 10,
   "metadata": {},
   "outputs": [],
   "source": [
    "filelist=os.listdir(input_loc)\n",
    "for files in filelist:\n",
    "   if files.endswith(\".xlsx\"):\n",
    "      file_date=files.replace('.xlsx', '')\n",
    "      file_month=int(file_date[3:5])\n",
    "      file_year=int(file_date[-4:])\n",
    "      file_day=int(file_date[:2])\n",
    "      # SELECCIÓN DE DÍAS A ACTUALIZAR EN LA BASE DE DATOS\n",
    "      if file_month==2:\n",
    "         df=pd.read_excel(input_loc+files)\n",
    "         df.columns=df.iloc[0]\n",
    "         df=df.drop(0)\n",
    "         df=df.drop(df.tail(1).index)\n",
    "         df['FECHA']=file_date\n",
    "         FECHA=df.pop('FECHA')\n",
    "         df.insert(0,'FECHA',FECHA)\n",
    "         df['FECHA']=pd.to_datetime(df['FECHA'], format=\"%d.%m.%Y\")\n",
    "         df[['Marca','Tipo','Version']]=df['Marca/Tipo/Version'].str.split(pat='/',n=2,expand=True)\n",
    "         df['Coin($/Maq-dia)']=(df['Dif. ElecIn']/TC.get(str(file_month)+'.'+str(file_year),3.9))\n",
    "         df['Netwin Real($/Maq-dia)']=(df['Neto Elec.']/TC.get(str(file_month)+'.'+str(file_year),3.9))\n",
    "         df['Netwin Teorico($/Maq-dia)']=df['Coin($/Maq-dia)']*0.06\n",
    "         df=df.drop(['N°','Prog','Piso','Bill','Marca/Tipo/Version'],axis=1)\n",
    "         df.to_excel(output_loc+files,'DATA',index=False)"
   ]
  }
 ],
 "metadata": {
  "kernelspec": {
   "display_name": "base",
   "language": "python",
   "name": "python3"
  },
  "language_info": {
   "codemirror_mode": {
    "name": "ipython",
    "version": 3
   },
   "file_extension": ".py",
   "mimetype": "text/x-python",
   "name": "python",
   "nbconvert_exporter": "python",
   "pygments_lexer": "ipython3",
   "version": "3.9.12"
  },
  "orig_nbformat": 4,
  "vscode": {
   "interpreter": {
    "hash": "e06ff7da33dc9620448857a90ad8b5f428f0d573d205a934d2841c8aee45ea32"
   }
  }
 },
 "nbformat": 4,
 "nbformat_minor": 2
}
