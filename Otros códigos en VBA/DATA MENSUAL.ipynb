{
 "cells": [
  {
   "cell_type": "code",
   "execution_count": 5,
   "metadata": {},
   "outputs": [],
   "source": [
    "import pandas as pd\n",
    "import matplotlib as plt\n",
    "from pandas import ExcelWriter\n",
    "import os\n",
    "import numpy as np\n",
    "numero_mes=int(input('Ingrese el mes'))\n",
    "año=2023\n",
    "if numero_mes==1:\n",
    "    mes='ENERO'\n",
    "elif numero_mes==2:\n",
    "    mes='FEBRERO'\n",
    "elif numero_mes==3:\n",
    "    mes='MARZO'\n",
    "elif numero_mes==4:\n",
    "    mes='ABRIL'\n",
    "elif numero_mes==5:\n",
    "    mes='MAYO'\n",
    "elif numero_mes==6:\n",
    "    mes='JUNIO'\n",
    "elif numero_mes==7:\n",
    "    mes='JULIO'\n",
    "elif numero_mes==8:\n",
    "    mes='AGOSTO'\n",
    "elif numero_mes==9:\n",
    "    mes='SETIEMBRE'\n",
    "elif numero_mes==10:\n",
    "    mes='OCTUBRE'\n",
    "elif numero_mes==11:\n",
    "    mes='NOVIEMBRE'\n",
    "elif numero_mes==12:\n",
    "    mes='DICIEMBRE'\n",
    "\n",
    "#            CREACIÓN DE VARIABLES PARA LA LOCALIZACION DEL INPUT Y OUTPUT\n",
    "input_loc='//192.168.10.250/finanzas_produccion/FINANZAS_PRODUCCION/Fernando/BASE DE DATOS/DATA DIARIA/DATA LIMPIA/'+str(año)+'/'\n",
    "output_loc='//192.168.10.250/finanzas_produccion/FINANZAS_PRODUCCION/Fernando/BASE DE DATOS/DATA MENSUAL/'+str(año)+'/'\n",
    "#            CREACIÓN DE VARIABLES PARA LISTA DE ARCHIVOS DE INPUT\n",
    "filelist=os.listdir(input_loc)\n",
    "df1=pd.DataFrame()\n",
    "for files in filelist:\n",
    "    if files.endswith(\".xlsx\"):\n",
    "        file_date=files.replace('.xlsx','')\n",
    "        file_month=int(file_date[3:5])\n",
    "        file_year=int(file_date[-4:])\n",
    "        if file_month==numero_mes and file_year==año:\n",
    "            df=pd.read_excel(input_loc+files)\n",
    "            df.fillna({'Marca':'N/A','Tipo':'N/A','Modelo Comercial':'N/A','Version': 'N/A','Juego':'N/A','Empresa':'N/A'},inplace=True)\n",
    "            df['Neto Fisico'] = df['Neto Fisico'].replace(\"-\",0)\n",
    "            df['Dif. ElecOut'] = df['Dif. ElecOut'].replace(\"-\",0)\n",
    "            df['Dif. ElecAtp'] = df['Dif. ElecAtp'].replace(\"-\",0)\n",
    "            df['Dif. Elec4'] = df['Dif. Elec4'].replace(\"-\",0)\n",
    "            df['Dif. ElecBill'] = df['Dif. ElecBill'].replace(\"-\",0)\n",
    "            df['Dif. Drop'] = df['Dif. Drop'].replace(\"-\",0)\n",
    "            df['Dif. Prog.'] = df['Dif. Prog.'].replace(\"-\",0)\n",
    "            df['Dif. G. Played'] = df['Dif. G. Played'].replace(\"-\",0)\n",
    "            df['Dif. ElecIn']=df['Dif. ElecIn'].replace(\"\",0)\n",
    "            df1=pd.concat([df1,df])\n",
    "\n",
    "df1.to_csv(output_loc+mes+'.csv', index=False)\n"
   ]
  }
 ],
 "metadata": {
  "kernelspec": {
   "display_name": "base",
   "language": "python",
   "name": "python3"
  },
  "language_info": {
   "codemirror_mode": {
    "name": "ipython",
    "version": 3
   },
   "file_extension": ".py",
   "mimetype": "text/x-python",
   "name": "python",
   "nbconvert_exporter": "python",
   "pygments_lexer": "ipython3",
   "version": "3.9.12"
  },
  "orig_nbformat": 4,
  "vscode": {
   "interpreter": {
    "hash": "e06ff7da33dc9620448857a90ad8b5f428f0d573d205a934d2841c8aee45ea32"
   }
  }
 },
 "nbformat": 4,
 "nbformat_minor": 2
}
